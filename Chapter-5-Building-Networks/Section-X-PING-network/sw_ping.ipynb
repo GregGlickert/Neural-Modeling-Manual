{
 "cells": [
  {
   "cell_type": "markdown",
   "metadata": {},
   "source": [
    "# Modeling Gamma: Stochastic Weak PING (with BMTK) \n",
    "\n",
    "In this notebook we will be modeling gamma oscillations found in the rodent hippocampus. When an group of inhibitory and excitatory neurons are connected oscillations naturally occur. The activity from the inhibitory cells cause the excitatory cell population to cease temporarily and when the excitatory behavior returns it is closer to being synchronized. \n",
    "All cells used here will be one of two Hodgkin-Huxley (HH) formulated cell types, excitatory **Reduced Traub-Miles** neurons (RTM), and inhibitory, **Wang-Buzsaki** neurons. There is no spatial consideration, cell size, position and distance between neurons will play no effect. The primary focus will be on the effects of synaptic weights, their \"tau\" and strength of external drive. \n",
    "As input to drive the simulation, we will also create an external network of \"virtual cells\" that synapse directly onto our internal cells and provide spike trains stimulus.\n",
    "\n",
    "This model was inspired by work done in the book \"An Introduction to Neuronal Modeling\" by C. Borgers. The structural basis for this notebook was inspired by [BMTK](https://github.com/AllenInstitute/bmtk)'s [Tutorial 4](https://github.com/AllenInstitute/bmtk/blob/develop/docs/tutorial/04_multi_pop.ipynb); some text may come directly from this documentation.\n",
    "\n",
    "requirements:\n",
    "* bmtk\n",
    "* NEURON 7.4+"
   ]
  },
  {
   "cell_type": "code",
   "execution_count": 1,
   "metadata": {},
   "outputs": [
    {
     "name": "stdout",
     "output_type": "stream",
     "text": [
      "/Users/gregglickert/Documents/GitHub/Network-Modeling-Manual/Chapter-5-Building-Networks/Section-X-PING-network/components/mechanisms\n"
     ]
    },
    {
     "name": "stderr",
     "output_type": "stream",
     "text": [
      "/Users/gregglickert/opt/anaconda3/envs/bmtk/bin/nrnivmodl:10: DeprecationWarning: pkg_resources is deprecated as an API. See https://setuptools.pypa.io/en/latest/pkg_resources.html\n",
      "  from pkg_resources import working_set\n"
     ]
    },
    {
     "name": "stdout",
     "output_type": "stream",
     "text": [
      "/usr/bin/xcrun\n",
      "/Users/gregglickert/Documents/GitHub/Network-Modeling-Manual/Chapter-5-Building-Networks/Section-X-PING-network/components/mechanisms\n",
      "Mod files: \"./k_rtm.mod\" \"./k_wb.mod\" \"./leak.mod\" \"./na_rtm.mod\" \"./na_wb.mod\" \"./vecevent.mod\"\n",
      "\n",
      "Creating 'x86_64' directory for .o files.\n",
      "\n",
      " -> \u001b[32mNMODL\u001b[0m ../k_rtm.mod\n",
      " -> \u001b[32mNMODL\u001b[0m ../k_wb.mod\n",
      " -> \u001b[32mNMODL\u001b[0m ../leak.mod\n",
      " -> \u001b[32mCompiling\u001b[0m mod_func.cpp\n"
     ]
    },
    {
     "name": "stderr",
     "output_type": "stream",
     "text": [
      "Translating k_wb.mod into /Users/gregglickert/Documents/GitHub/Network-Modeling-Manual/Chapter-5-Building-Networks/Section-X-PING-network/components/mechanisms/x86_64/k_wb.c\n",
      "Thread Safe\n",
      "Translating leak.mod into /Users/gregglickert/Documents/GitHub/Network-Modeling-Manual/Chapter-5-Building-Networks/Section-X-PING-network/components/mechanisms/x86_64/leak.c\n",
      "Translating k_rtm.mod into /Users/gregglickert/Documents/GitHub/Network-Modeling-Manual/Chapter-5-Building-Networks/Section-X-PING-network/components/mechanisms/x86_64/k_rtm.c\n",
      "Thread Safe\n",
      "Thread Safe\n",
      "Translating na_rtm.mod into /Users/gregglickert/Documents/GitHub/Network-Modeling-Manual/Chapter-5-Building-Networks/Section-X-PING-network/components/mechanisms/x86_64/na_rtm.c\n",
      "Translating vecevent.mod into /Users/gregglickert/Documents/GitHub/Network-Modeling-Manual/Chapter-5-Building-Networks/Section-X-PING-network/components/mechanisms/x86_64/vecevent.c\n",
      "Translating na_wb.mod into /Users/gregglickert/Documents/GitHub/Network-Modeling-Manual/Chapter-5-Building-Networks/Section-X-PING-network/components/mechanisms/x86_64/na_wb.c\n",
      "Thread Safe\n",
      "Thread Safe\n",
      "Thread Safe\n"
     ]
    },
    {
     "name": "stdout",
     "output_type": "stream",
     "text": [
      " -> \u001b[32mNMODL\u001b[0m ../na_rtm.mod\n",
      " -> \u001b[32mNMODL\u001b[0m ../vecevent.mod\n",
      " -> \u001b[32mNMODL\u001b[0m ../na_wb.mod\n",
      "Notice: ARTIFICIAL_CELL is a synonym for POINT_PROCESS which hints that it\n",
      "only affects and is affected by discrete events. As such it is not\n",
      "located in a section and is not associated with an integrator\n",
      " -> \u001b[32mCompiling\u001b[0m k_rtm.c\n",
      " -> \u001b[32mCompiling\u001b[0m k_wb.c\n",
      " -> \u001b[32mCompiling\u001b[0m leak.c\n"
     ]
    },
    {
     "name": "stderr",
     "output_type": "stream",
     "text": [
      "k_rtm.ck_wb.cleak.c:43:41:18::18:  warning: warning: :a function declaration without a prototype is deprecated in all versions of C and is treated as a zero-parameter prototype in C2x, conflicting with a previous declaration [-Wdeprecated-non-prototype]a function declaration without a prototype is deprecated in all versions of C and is treated as a zero-parameter prototype in C2x, conflicting with a previous declaration [-Wdeprecated-non-prototype]\n",
      "43:18: warning: \n",
      "a function declaration without a prototype is deprecated in all versions of C and is treated as a zero-parameter prototype in C2x, conflicting with a previous declaration [-Wdeprecated-non-prototype]\n",
      "         extern double *getarg();\n",
      "                        ^\n",
      "         extern double *getarg();\n",
      "                        ^\n",
      "         extern double *getarg();\n",
      "                        ^\n",
      "/Users/gregglickert/opt/anaconda3/envs/bmtk/lib/python3.8/site-packages/neuron/.data/include/hocdec.h:15:17:/Users/gregglickert/opt/anaconda3/envs/bmtk/lib/python3.8/site-packages/neuron/.data/include/hocdec.h:15 :17note: :expanded from macro 'getarg' \n",
      "note: expanded from macro 'getarg'/Users/gregglickert/opt/anaconda3/envs/bmtk/lib/python3.8/site-packages/neuron/.data/include/hocdec.h\n",
      ":15:#define getarg  hoc_getarg17\n",
      ":                ^#define getarg  hoc_getarg\n",
      "\n",
      "                ^ \n",
      "note: expanded from macro 'getarg'\n",
      "#define getarg  hoc_getarg\n",
      "                ^\n",
      "/Users/gregglickert/opt/anaconda3/envs/bmtk/lib/python3.8/site-packages/neuron/.data/include/oc_ansi.h:49:16/Users/gregglickert/opt/anaconda3/envs/bmtk/lib/python3.8/site-packages/neuron/.data/include/oc_ansi.h:49::/Users/gregglickert/opt/anaconda3/envs/bmtk/lib/python3.8/site-packages/neuron/.data/include/oc_ansi.h :note: 16conflicting prototype is here:\n",
      "49:16:  extern double* getarg(int);note: note: \n",
      "conflicting prototype is hereconflicting prototype is here\n",
      "\n",
      "               ^\n",
      "extern double* getarg(int);\n",
      "               ^\n",
      "/Users/gregglickert/opt/anaconda3/envs/bmtk/lib/python3.8/site-packages/neuron/.data/include/hocdec.h:15/Users/gregglickert/opt/anaconda3/envs/bmtk/lib/python3.8/site-packages/neuron/.data/include/hocdec.h:15extern double* getarg(int);:17\n",
      ":               ^ \n",
      "note: expanded from macro 'getarg'\n",
      "/Users/gregglickert/opt/anaconda3/envs/bmtk/lib/python3.8/site-packages/neuron/.data/include/hocdec.h:15:17: #define getarg  hoc_getargnote: \n",
      "expanded from macro 'getarg'                ^\n",
      "\n",
      ":#define getarg  hoc_getarg17\n",
      ":                ^ \n",
      "note: expanded from macro 'getarg'\n",
      "#define getarg  hoc_getarg\n",
      "                ^\n",
      "1 warning generated.\n",
      "1 warning generated.\n",
      "1 warning generated.\n",
      "na_wb.c:43:18: warning: a function declaration without a prototype is deprecated in all versions of C and is treated as a zero-parameter prototype in C2x, conflicting with a previous declaration [-Wdeprecated-non-prototype]\n",
      "         extern double *getarg();\n",
      "                        ^\n",
      "/Users/gregglickert/opt/anaconda3/envs/bmtk/lib/python3.8/site-packages/neuron/.data/include/hocdec.h:15:17: note: expanded from macro 'getarg'\n",
      "#define getarg  hoc_getarg\n",
      "                ^\n",
      "/Users/gregglickert/opt/anaconda3/envs/bmtk/lib/python3.8/site-packages/neuron/.data/include/oc_ansi.h:49:16na_rtm.c:43:18: warning: a function declaration without a prototype is deprecated in all versions of C and is treated as a zero-parameter prototype in C2x, conflicting with a previous declaration [-Wdeprecated-non-prototype]\n",
      "         extern double *getarg();\n",
      "                        ^\n",
      "/Users/gregglickert/opt/anaconda3/envs/bmtk/lib/python3.8/site-packages/neuron/.data/include/hocdec.h:15:17: note: expanded from macro 'getarg'\n",
      "#define getarg  hoc_getarg\n",
      "                ^\n",
      "/Users/gregglickert/opt/anaconda3/envs/bmtk/lib/python3.8/site-packages/neuron/.data/include/oc_ansi.h:49:16: note: conflicting prototype is here\n",
      "extern double* getarg(int);\n",
      "               ^\n",
      "/Users/gregglickert/opt/anaconda3/envs/bmtk/lib/python3.8/site-packages/neuron/.data/include/hocdec.h:15:17: note: expanded from macro 'getarg'\n",
      "#define getarg  hoc_getarg\n",
      "                ^\n",
      ": note: conflicting prototype is here\n",
      "extern double* getarg(int);\n",
      "               ^\n",
      "/Users/gregglickert/opt/anaconda3/envs/bmtk/lib/python3.8/site-packages/neuron/.data/include/hocdec.h:15:17: note: expanded from macro 'getarg'\n",
      "#define getarg  hoc_getarg\n",
      "                ^\n",
      "vecevent.c:43:18: warning: a function declaration without a prototype is deprecated in all versions of C and is treated as a zero-parameter prototype in C2x, conflicting with a previous declaration [-Wdeprecated-non-prototype]\n",
      "         extern double *getarg();\n",
      "                        ^\n",
      "/Users/gregglickert/opt/anaconda3/envs/bmtk/lib/python3.8/site-packages/neuron/.data/include/hocdec.h:15:17: note: expanded from macro 'getarg'\n",
      "#define getarg  hoc_getarg\n",
      "                ^\n",
      "/Users/gregglickert/opt/anaconda3/envs/bmtk/lib/python3.8/site-packages/neuron/.data/include/oc_ansi.h:49:16: note: conflicting prototype is here\n",
      "extern double* getarg(int);\n",
      "               ^\n",
      "/Users/gregglickert/opt/anaconda3/envs/bmtk/lib/python3.8/site-packages/neuron/.data/include/hocdec.h:15:17: note: expanded from macro 'getarg'\n",
      "#define getarg  hoc_getarg\n",
      "                ^\n",
      "vecevent.c:242:32: warning: a function declaration without a prototype is deprecated in all versions of C and is treated as a zero-parameter prototype in C2x, conflicting with a previous declaration [-Wdeprecated-non-prototype]\n",
      "  if (_tsav > t){ extern char* hoc_object_name(); hoc_execerror(hoc_object_name(_pnt->ob), \":Event arrived out of order. Must call ParallelContext.set_maxstep AFTER assigning minimum NetCon.delay\");}\n",
      "                               ^\n",
      "/Users/gregglickert/opt/anaconda3/envs/bmtk/lib/python3.8/site-packages/neuron/.data/include/oc_ansi.h:46:14: note: conflicting prototype is here\n",
      "extern char* hoc_object_name(Object*);\n",
      "             ^\n"
     ]
    },
    {
     "name": "stdout",
     "output_type": "stream",
     "text": [
      " -> \u001b[32mCompiling\u001b[0m na_rtm.c\n",
      " -> \u001b[32mCompiling\u001b[0m na_wb.c\n",
      " -> \u001b[32mCompiling\u001b[0m vecevent.c\n"
     ]
    },
    {
     "name": "stderr",
     "output_type": "stream",
     "text": [
      "1 warning generated.\n",
      "1 warning generated.\n",
      "2 warnings generated.\n"
     ]
    },
    {
     "name": "stdout",
     "output_type": "stream",
     "text": [
      " => \u001b[32mLINKING\u001b[0m shared library ./libnrnmech.dylib\n",
      " => \u001b[32mLINKING\u001b[0m executable ./special LDFLAGS are:    \n",
      "Successfully created x86_64/special\n",
      "/Users/gregglickert/Documents/GitHub/Network-Modeling-Manual/Chapter-5-Building-Networks/Section-X-PING-network\n"
     ]
    },
    {
     "name": "stderr",
     "output_type": "stream",
     "text": [
      "ld: warning: ignoring duplicate libraries: '-lnrnmech'\n"
     ]
    }
   ],
   "source": [
    "# Download needed packages and files\n",
    "import os\n",
    "\n",
    "RunningInCOLAB = 'google.colab' in str(get_ipython())  # checks to see if we are in google colab\n",
    "if RunningInCOLAB:                                     # installs packages and repo if in colab\n",
    "    !pip install bmtk &> /dev/null               \n",
    "    !pip install neuron &> /dev/null\n",
    "    !git clone https://github.com/GregGlickert/Neural-Modeling-Manual.git &> /dev/null \n",
    "    %cd Neural-Modeling-Manual/Chapter-5-Synaptic-Design/Section-X-PING-network/\n",
    "\n",
    "if(os.path.exists('components/mechanisms/x86_64')==False): \n",
    "    %cd components/mechanisms/       \n",
    "    os.system('nrnivmodl') # compile modfiles. Return 0 for success, 1 for failure.\n",
    "    %cd ../.."
   ]
  },
  {
   "cell_type": "markdown",
   "metadata": {},
   "source": [
    "## 1. Building the network\n",
    "\n",
    "#### Cells\n",
    "\n",
    "This network will loosely resemble the rodent hippocampals. There will be a population of 250 detailed neurons: 200 excitatory RTM cells and 50 inhibitory WB cells.\n",
    "\n",
    "Below, we create our network `net` object definition using BMTK. We then instruct the `net` object to `add_nodes` to our network model."
   ]
  },
  {
   "cell_type": "code",
   "execution_count": 2,
   "metadata": {},
   "outputs": [],
   "source": [
    "import numpy as np\n",
    "import logging\n",
    "\n",
    "from bmtk.builder.networks import NetworkBuilder\n",
    "\n",
    "n_E = 200 # number of RTM excitatory cells\n",
    "n_I = 50  # number WB inhibitory cells\n",
    "    \n",
    "\n",
    "net = NetworkBuilder('network')\n",
    "\n",
    "net.add_nodes(N=n_I, pop_name='Inh',     # N = number of inhibitory cells\n",
    "        model_type='biophysical',\n",
    "        model_template='hoc:WBInhCell',  # WBInhCell hoc definition\n",
    "        morphology='blank.swc')\n",
    "\n",
    "net.add_nodes(N=n_E, pop_name='Exc',     # N = number of excitatory cells\n",
    "        model_type='biophysical',\n",
    "        model_template='hoc:RTMExcCell', # RTMExcCell hoc definition\n",
    "        morphology='blank.swc')\n"
   ]
  },
  {
   "cell_type": "markdown",
   "metadata": {},
   "source": [
    "#### Connections\n",
    "\n",
    "Now we want to create connections between the cells. Depending on the model type, and whether or not the presynpatic \"source\" cell is excitory or inhibitory, we will have different synpatic model and parameters. Using the source and target filter parameters, we can create different connection types\n",
    "\n",
    "To do this we create a customized function `syn_connector` which accepts the probability parameter `p`."
   ]
  },
  {
   "cell_type": "code",
   "execution_count": 3,
   "metadata": {},
   "outputs": [],
   "source": [
    "import random\n",
    "\n",
    "def syn_connector(source,target,p):\n",
    "    return 1 if random.random() < p else 0"
   ]
  },
  {
   "cell_type": "markdown",
   "metadata": {},
   "source": [
    "The first two parameters of this function are \"source\" and \"target\" and are required for all custom connector functions. These are node objects which gives a representation of a single source and target cell, with properties that can be accessed like a python dictionary. When The Network Builder is creating the connection matrix, it will call this function for all possible source-target pairs. The user doesn't call this function directly.\n",
    "\n",
    "In `syn_connector`, cells will be connected based on randomized probability. For example, if `p` is set to `.5`, on average, half of the cells will be connected. This function also determines the number of connections between each given source and target cell, in this case we only have one connection but this can be changed if desired. If there are none you can return either None or 0.\n",
    "\n",
    "To create these connections we call add_edges method of the builder. We use the source and target parameter to filter out only excitory-to-excitory and then excitatory-to-inhibitory connections. We pass in the custom connector function through the connection_rule parameter, and the function parameters (except source and target) through connection_params. (If our `syn_connector` function didn't have any parameters other than source and target, we could just not set connection_params).\n",
    "\n",
    "The probability that two cell types are connected is governed by\n",
    "* $p_{EE}$ (`p_EE`) - Probability of Excitatory RTM Cells Connecting to Excitatory RTM Cells\n",
    "* $p_{EI}$ (`p_EI`) - Probability of Excitatory RTM Cells Connecting to Inhibitory WB Cells\n",
    "* $p_{IE}$ (`p_IE`) - Probability of Inhibitory WB Cells Cells Connecting to Excitatory RTM Cells\n",
    "* $p_{II}$ (`p_II`) - Probability of Inhibitory WB Cells Cells Connecting to Inhibitory WB Cells\n",
    "\n",
    "The **maximum** conductance that can be provided by all input of a specific cell type is provided by $\\hat{g}_{XX}$\n",
    "* $\\hat{g}_{EE}$ (`g_hat_EE`) - Excitatory to Excitatory connections\n",
    "* $\\hat{g}_{EI}$ (`g_hat_EI`) - Excitatory to Inhibitory connections\n",
    "* $\\hat{g}_{IE}$ (`g_hat_IE`) - Inhibitory to Excitatory connections\n",
    "* $\\hat{g}_{II}$ (`g_hat_II`) - Inhibitory to Inhibitory connections\n"
   ]
  },
  {
   "cell_type": "code",
   "execution_count": 4,
   "metadata": {},
   "outputs": [],
   "source": [
    "p_EE = 0.0 # Probability of Excitatory RTM Cells Connecting to Excitatory RTM Cells\n",
    "p_EI = 1.0 #0.5 # Probability of Excitatory RTM Cells Connecting to Inhibitory WB Cells\n",
    "p_IE = 1.0 #0.5 # Probability of Inhibitory WB Cells Cells Connecting to Excitatory RTM Cells\n",
    "p_II = 1.0 #0.5 # Probability of Inhibitory WB Cells Cells Connecting to Inhibitory WB Cells\n",
    "\n",
    "g_hat_EE = 0.0\n",
    "g_hat_EI = 1.25 #0.25\n",
    "g_hat_IE = 1.25 #0.25\n",
    "g_hat_II = 0.4  #0.25\n",
    "\n",
    "conn = net.add_edges(source={'pop_name':'Exc'}, target={'pop_name':'Exc'},\n",
    "            connection_rule=syn_connector,\n",
    "            connection_params={'p':p_EI},\n",
    "            syn_weight=g_hat_EE/n_E, # Synaptic weight is g^ over the total number of cell in the population\n",
    "            dynamics_params='PING_ExcToExc.json',\n",
    "            model_template='exp2syn',\n",
    "            distance_range=[0.0,999.9],\n",
    "            delay=0,\n",
    "            target_sections=['soma'])\n",
    "\n",
    "conn = net.add_edges(source={'pop_name':'Exc'}, target={'pop_name':'Inh'},\n",
    "            connection_rule=syn_connector,\n",
    "            connection_params={'p':p_EI},\n",
    "            syn_weight=g_hat_EI/n_E, # Synaptic weight is g^ over the total number of cell in the population\n",
    "            dynamics_params='PING_ExcToInh.json',\n",
    "            model_template='exp2syn',\n",
    "            distance_range=[0.0,999.9],\n",
    "            delay=0,\n",
    "            target_sections=['soma'])\n"
   ]
  },
  {
   "cell_type": "markdown",
   "metadata": {},
   "source": [
    "Similarly we create the other inhibitory connections."
   ]
  },
  {
   "cell_type": "code",
   "execution_count": 5,
   "metadata": {},
   "outputs": [],
   "source": [
    "\n",
    "conn = net.add_edges(source={'pop_name':'Inh'}, target={'pop_name':'Exc'},\n",
    "            connection_rule=syn_connector,\n",
    "            connection_params={'p':p_IE},\n",
    "            syn_weight=g_hat_IE/n_I, # Synaptic weight is g^ over the total number of cell in the population\n",
    "            dynamics_params='PING_InhToExc.json',\n",
    "            model_template='exp2syn',\n",
    "            distance_range=[0.0,999.9],\n",
    "            delay=0,\n",
    "            target_sections=['soma'])\n",
    "\n",
    "\n",
    "conn = net.add_edges(source={'pop_name':'Inh'}, target={'pop_name':'Inh'},\n",
    "            connection_rule=syn_connector,\n",
    "            connection_params={'p':p_II},\n",
    "            syn_weight=g_hat_II/n_I, # Synaptic weight is g^ over the total number of cell in the population\n",
    "            dynamics_params='PING_InhToInh.json',\n",
    "            model_template='exp2syn',\n",
    "            distance_range=[0.0,999.9],\n",
    "            delay=0,\n",
    "            target_sections=['soma'])\n",
    "\n"
   ]
  },
  {
   "cell_type": "markdown",
   "metadata": {},
   "source": [
    "#### Synaptic properties\n",
    "\n",
    "For this model, we'll be using `NEURON`'s built-in [`exp2syn`](https://www.neuron.yale.edu/neuron/static/py_doc/modelspec/programmatic/mechanisms/mech.html#Exp2Syn) synapse, which will provide simple rise and decay dynamics. \n",
    "\n",
    "You may have noticed the `dynamics_params` parameter in the previous `add_edges` function calls. These files contain values that will be passed to the simulator at runtime. They'll located in the `components/synaptic_models` directory. We'll need four separate files - `PING_ExcToExc.json` for excitatory to excitatory, `PING_ExcToInh.json` for excitatory to inhibitory, `PING_InhToExc.json` for inhibitory to excitatory, and `PING_InhToInh.json` for inhibitory to inhibitory connections. An example of one is shown below. Edit these files **directly** (and not here), before running the simulation to test different synaptic parameters.\n",
    "\n",
    "```json\n",
    "{\n",
    "    \"tau1\": 0.5,\n",
    "    \"tau2\": 3,\n",
    "    \"erev\": 0\n",
    "}\n",
    "```\n",
    "\n",
    "`\"tau1\"` is the synapse rise time, `\"tau2\"` is the decay, and `\"erev\"` is the reversal potential.\n",
    "\n",
    "#### Building\n",
    "\n",
    "Finally we build the network (this may take a bit of time since it's iterating over all 250x250 possible connection combinations), and save the nodes and edges."
   ]
  },
  {
   "cell_type": "code",
   "execution_count": 6,
   "metadata": {},
   "outputs": [],
   "source": [
    "net.build()\n",
    "net.save_nodes(output_dir='network')\n",
    "net.save_edges(output_dir='network')"
   ]
  },
  {
   "cell_type": "markdown",
   "metadata": {},
   "source": [
    "### Building external network\n",
    "\n",
    "Next we want to create an external network consisting of virtual cells that form a feedforward network onto our PING network, which will provide input during the simulation. We will call this `extnet`, (if we wanted to we could also create multiple external networks and run simulations on any number of them). \n",
    "\n",
    "First we build our `extnet` nodes. Then we must import the `network` nodes, and create connections between `extnet` --> `network`."
   ]
  },
  {
   "cell_type": "code",
   "execution_count": 7,
   "metadata": {},
   "outputs": [],
   "source": [
    "from bmtk.builder.networks import NetworkBuilder\n",
    "\n",
    "extnet = NetworkBuilder('extnet')\n",
    "\n",
    "extnet.add_nodes(N=n_E, model_type='virtual', pop_name='bgnoisevirtExt', pop_group='bgnoisevirtExt')\n"
   ]
  },
  {
   "cell_type": "markdown",
   "metadata": {},
   "source": [
    "As before, we will use a customized function to determine the number of connections between each source and target pair, however this time our connection_rule is a bit different\n",
    "\n",
    "In the previous example, our connection_rule function's first two arguments were the presynaptic and postsynaptic cells, which allowed us to choose how many synaptic connections between the pairs existed based on individual properties:\n",
    "```python\n",
    "def connection_fnc(source, target, ...):\n",
    "    source['param'] # presynaptic cell params\n",
    "    target['param'] # postsynaptic cell params\n",
    "    ...\n",
    "    return nsyns # number of connections between pair\n",
    "```\n",
    "\n",
    "But for our `extnet` --> `network` connection, we do things a bit differently. We want to make sure that for every source cell, there are a limited number of presynaptic targets or in this case, exactly 1. This is a not really possible with a function that iterates on a one-to-one basis. So instead we have a connector function who's first parameter is a single source cell, and the second parameter is a list of N target cells. We return an array of integers, size N; which each index represents the number of synapses between source and the targets. \n",
    "\n",
    "To tell the builder to use this schema, we must set `iterator='one_to_all'` in the `add_edges` method. (By default this is set to 'one_to_one'. You can also use 'all_to_one' iterator which will pass in all possible single sources and a single target)."
   ]
  },
  {
   "cell_type": "code",
   "execution_count": 8,
   "metadata": {},
   "outputs": [],
   "source": [
    "def target_ind_equals_source_ind(source, targets, offset=0, min_syn=1,max_syn=1):\n",
    "    # Creates a 1 to 1 mapping between source and destination nodes\n",
    "    total_targets = len(targets)\n",
    "    syns = np.zeros(total_targets)\n",
    "    target_index = source['node_id']\n",
    "    syns[target_index-offset] = 1\n",
    "    return syns\n",
    "        \n",
    "\n",
    "g_bar_stoch = 0.03\n",
    "    \n",
    "conn = extnet.add_edges(target=net.nodes(pop_name='Exc'),\n",
    "            source={'pop_name':'bgnoisevirtExt'},\n",
    "            iterator='one_to_all',\n",
    "            connection_rule=target_ind_equals_source_ind,\n",
    "            connection_params={'offset':n_I},\n",
    "            dynamics_params='PING_ExcToExc.json',\n",
    "            model_template='exp2syn',\n",
    "            distance_range=[0.0,999.9],\n",
    "            target_sections=['soma'],\n",
    "            delay=0,\n",
    "            syn_weight=g_bar_stoch\n",
    "            )\n",
    "\n",
    "extnet.build()\n",
    "extnet.save_nodes(output_dir='network')\n",
    "extnet.save_edges(output_dir='network')"
   ]
  },
  {
   "cell_type": "markdown",
   "metadata": {},
   "source": [
    "In the above code, we have our `extnet` object `add_edges` where the target cell type's `pop_name` is `'Exc'` in the `net` network. The strength of the external input is defined by $\\bar{g}_{stoch}$ (`g_bar_stoch`). \n",
    "\n",
    "**!! Change the value of $\\bar{g}_{stoch}$ (`g_bar_stoch`) to determine the effect of external input (provided to our excitatory cells) on the gamma frequency!!**"
   ]
  },
  {
   "cell_type": "markdown",
   "metadata": {},
   "source": [
    "## 2. Setting up BioNet\n",
    "\n",
    "#### file structure.\n",
    "\n",
    "Before running a simulation, we will need to create the runtime environment, including parameter files, run-script and configuration files. We will copy the other necessary files from an existing simuation. The following command has been executed for us:\n",
    "\n",
    "```bash\n",
    "$ python -m bmtk.utils.sim_setup  \\\n",
    "   --network network              \\\n",
    "   --dt 0.1                       \\\n",
    "   --tstop 1000.0                 \\\n",
    "   bionet .\n",
    "```\n",
    "\n",
    "$ python -m bmtk.utils.sim_setup --network network --dt 0.1 --tstop 1000.0 bionet .\n",
    "\n",
    "It can also be run directly in python (see commented out code)"
   ]
  },
  {
   "cell_type": "code",
   "execution_count": 9,
   "metadata": {},
   "outputs": [],
   "source": [
    "from bmtk.utils.sim_setup import build_env_bionet\n",
    "\n",
    "sim_len = 1000.0\n",
    "dt = 0.1\n",
    "\n",
    "# This step has already been performed for you. \n",
    "# Running again will remove customized configuration files. \n",
    "# If you wish to run again, remove comment tags below.\n",
    "\n",
    "#build_env_bionet(base_dir='.',      \n",
    "#                 network_dir='network',\n",
    "#                 tstop=sim_len, dt=dt\n",
    "#                )\n"
   ]
  },
  {
   "cell_type": "markdown",
   "metadata": {},
   "source": [
    "This will fill out the our current directory with all the files we need to get started to run the simulation. Of interest includes\n",
    "\n",
    "* **circuit_config.json** - A configuration file that contains the location of the network files we created above. Plus location of neuron and synpatic models, templates, morphologies and mechanisms required to build our instantiate individual cell models.\n",
    "\n",
    "\n",
    "* **simulation_config.json** - contains information about the simulation. Including initial conditions and run-time configuration (_run_ and _conditions_). In the _inputs_ section we define what external sources we will use to drive the network (in this case a current clamp). And in the _reports_ section we define the variables (soma membrane potential and calcium) that will be recorded during the simulation \n",
    "\n",
    "\n",
    "* **run_bionent.py** - A script for running our simulation outside of our Jupyter notebook. Usually this file doesn't need to be modified.\n",
    "\n",
    "* **components/synaptic_models/** - Parameter files used to create different types of synapses.\n"
   ]
  },
  {
   "cell_type": "markdown",
   "metadata": {},
   "source": [
    "#### circuit_config.json\n",
    "The `circuit_config.json` file will need to be modified to specify our network configuration files generated previously. Your `\"networks\"` section should look like the following. These files were generated previously with our `save_nodes` and `save_edges` function calls.\n",
    "\n",
    "```json\n",
    "  \"networks\": {\n",
    "    \"nodes\": [\n",
    "      {\n",
    "        \"nodes_file\": \"$NETWORK_DIR/network_nodes.h5\",\n",
    "        \"node_types_file\": \"$NETWORK_DIR/network_node_types.csv\"\n",
    "      },\n",
    "      {\n",
    "        \"nodes_file\": \"$NETWORK_DIR/extnet_nodes.h5\",\n",
    "        \"node_types_file\": \"$NETWORK_DIR/extnet_node_types.csv\"\n",
    "      }\n",
    "    ],\n",
    "    \"edges\": [\n",
    "      {\n",
    "        \"edges_file\": \"$NETWORK_DIR/network_network_edges.h5\",\n",
    "        \"edge_types_file\": \"$NETWORK_DIR/network_network_edge_types.csv\" \n",
    "      },\n",
    "      {\n",
    "        \"edges_file\": \"$NETWORK_DIR/extnet_network_edges.h5\",\n",
    "        \"edge_types_file\": \"$NETWORK_DIR/extnet_network_edge_types.csv\" \n",
    "      }\n",
    "    ],\n",
    "    \"gap_juncs\": []\n",
    "  }\n",
    "```"
   ]
  },
  {
   "cell_type": "markdown",
   "metadata": {},
   "source": [
    "#### External Input\n",
    "\n",
    "We need to provide two types of input to our cells. First, to our `extnet` external network cells with spike-trains so they can activate our network in a synchronized mannor. Second, a constant current injection to increase all cell's excitability.\n",
    "\n",
    "First, we must edit the **simulation_config.json** file to tell the simulator to find the **.h5** files and which network to associate it with. **This has already been done for you**\n",
    "\n",
    "```json\n",
    "{\n",
    "  \"node_sets\": {\n",
    "    \"Exc\": {\n",
    "      \"pop_name\":\"Exc\"\n",
    "    }\n",
    "  },\n",
    "  \"inputs\": {\n",
    "    \"noise\": {\n",
    "      \"input_type\": \"spikes\",\n",
    "      \"module\": \"sonata\",\n",
    "      \"input_file\": \"input/ext_inp_poisson.h5\",\n",
    "      \"node_set\": \"exc\"\n",
    "    }\n",
    "  }\n",
    "}\n",
    "```\n",
    "\n",
    "In the `\"node_sets\"` section we specify a set of nodes that we want input provided to.\n",
    "\n",
    "Next, we need to generate the previously specified `input/ext_inp_poisson.h5` file. The implementation details of this section of code aren't important but what we need to do is provide each artificial cell a poisson input drive at the $f_{stoch}$ (`stoch_freq`) frequency."
   ]
  },
  {
   "cell_type": "code",
   "execution_count": 10,
   "metadata": {},
   "outputs": [],
   "source": [
    "def generate_ext_poisson_input(n_E,freq=60,offset=0,population='extnet',times=(0.0, 1.0),filename='input/ext_inp_poisson.h5'):\n",
    "    '''\n",
    "    Generate poisson input for ext cells\n",
    "    '''\n",
    "    import os\n",
    "    from bmtk.utils.reports.spike_trains import PoissonSpikeGenerator\n",
    "    \n",
    "    try:\n",
    "        os.remove(filename)\n",
    "    except OSError:\n",
    "        pass\n",
    "    \n",
    "    psg = PoissonSpikeGenerator(population=population)\n",
    "    psg.add(node_ids=range(offset,offset+n_E),  # Select nodes\n",
    "            firing_rate=freq,     # 'freq' Hz, we can also pass in a nonhomoegenous function/array\n",
    "            times=times)    # Firing starts at 0 s up to 1 s by default\n",
    "    psg.to_sonata(filename)\n",
    "    logging.info(filename + \" written\")\n",
    "\n",
    "\n",
    "#n_E defined above\n",
    "stoch_freq = 60\n",
    "\n",
    "generate_ext_poisson_input(n_E,freq=stoch_freq,filename='input/ext_inp_poisson.h5')"
   ]
  },
  {
   "cell_type": "markdown",
   "metadata": {},
   "source": [
    "\n",
    "**!! Alter the value of $f_{stoch}$ (`stoch_freq`) to increase of decrease the input drive!!** "
   ]
  },
  {
   "cell_type": "markdown",
   "metadata": {},
   "source": [
    "#### Cell definitions\n",
    "\n",
    "For reference - template hoc files should be defined in `templates.hoc` and placed in the `components/templates` directory. Cells utilize the following the definitions and include a sodium, potassium, and leak channel.\n",
    "\n",
    "$C \\frac{dV_{m}}{dt} = -\\bar{g}_{K}n^4(V_{m} - V_{K}) - \\bar{g}_{Na}m^3h(V_{m} - V_{Na}) - \\bar{g}_{l}(V_{m} - V_{l}) + I$\n",
    "\n",
    "* $\\frac{dn}{dt} = \\alpha_{n}(V_{m})(1-n) - \\beta_n(V_m)n$\n",
    "* $\\frac{dm}{dt} = \\alpha_{m}(V_{m})(1-m) - \\beta_m(V_m)m$\n",
    "* $\\frac{dh}{dt} = \\alpha_{h}(V_{m})(1-h) - \\beta_h(V_m)h$\n",
    "\n",
    "**RTM Cell**\n",
    "* $\\alpha_{n} = 0.032*(v+52)/(1-e^{-(v+52)/5})$\n",
    "* $\\beta_{n} = 0.5*e^{-(v+57)/40}$\n",
    "* $\\alpha_{m} = 0.32*(v+54)/(1-e^{-(v+54)/4})$\n",
    "* $\\beta_{m} = 0.28*(v+27)/(e^{(v+27)/5}-1)$\n",
    "* $\\alpha_{h} = 0.128*e^{-(v+50)/18}$\n",
    "* $\\beta_{h} = 4./(1+e^{-(v+27)/5})$\n",
    "\n",
    "\n",
    "**WB Cell**\n",
    "* $\\alpha_{n} = -0.01*(v+34)/(e^{-0.1*(v+34)}-1)$\n",
    "* $\\beta_{n} = 0.125*e^{-(v+44)/80}$\n",
    "* $\\alpha_{m} = 0.1*(v+35)/(1-e^{-(v+35)/10})$\n",
    "* $\\beta_{m} = 4*e^{-(v+60)/18}$\n",
    "* $\\alpha_{h} = 0.07*e^{-(v+58)/20}$\n",
    "* $\\beta_{h} = 1/(e^{-0.1*(v+28)}+1)$\n"
   ]
  },
  {
   "cell_type": "markdown",
   "metadata": {},
   "source": [
    "#### Current Channels .mod files\n",
    "Mod files for the sodium, potassium and leak channels are defined in the `components/mechanisms` folder. The RTM Sodium channel contents of `components/mechanisms/na_rtm.mod` are shown below. See the additional `k_rtm.mod`, `na_wb.mod`, `k_wb.mod`, and `leak.mod` files in the same directory. Definitions above.\n",
    "\n",
    "#### !! Be sure to compile the mechanism files in `components/mechanisms` before continuing !! (nrnivmodl or mknrndll)"
   ]
  },
  {
   "cell_type": "markdown",
   "metadata": {},
   "source": [
    "## 3. Running the simulation\n",
    "\n",
    "Finally we are ready to run the simulation. Note that because this is a 250 cell simulation, this may be computationally intensive for some older computers and may take anywhere between a few seconds to a few minutes to complete.\n"
   ]
  },
  {
   "cell_type": "code",
   "execution_count": 11,
   "metadata": {
    "scrolled": false
   },
   "outputs": [
    {
     "name": "stdout",
     "output_type": "stream",
     "text": [
      "2024-01-08 15:42:11,767 [INFO] Created log file\n"
     ]
    },
    {
     "name": "stderr",
     "output_type": "stream",
     "text": [
      "INFO:NEURONIOUtils:Created log file\n"
     ]
    },
    {
     "name": "stdout",
     "output_type": "stream",
     "text": [
      "2024-01-08 15:42:12,169 [INFO] Building cells.\n"
     ]
    },
    {
     "name": "stderr",
     "output_type": "stream",
     "text": [
      "INFO:NEURONIOUtils:Building cells.\n"
     ]
    },
    {
     "name": "stdout",
     "output_type": "stream",
     "text": [
      "2024-01-08 15:42:12,289 [INFO] Building recurrent connections\n"
     ]
    },
    {
     "name": "stderr",
     "output_type": "stream",
     "text": [
      "INFO:NEURONIOUtils:Building recurrent connections\n"
     ]
    },
    {
     "name": "stdout",
     "output_type": "stream",
     "text": [
      "2024-01-08 15:42:26,511 [INFO] Building virtual cell stimulations for noise\n"
     ]
    },
    {
     "name": "stderr",
     "output_type": "stream",
     "text": [
      "INFO:NEURONIOUtils:Building virtual cell stimulations for noise\n"
     ]
    },
    {
     "name": "stdout",
     "output_type": "stream",
     "text": [
      "2024-01-08 15:42:26,710 [INFO] Running simulation for 1000.000 ms with the time step 0.100 ms\n"
     ]
    },
    {
     "name": "stderr",
     "output_type": "stream",
     "text": [
      "INFO:NEURONIOUtils:Running simulation for 1000.000 ms with the time step 0.100 ms\n"
     ]
    },
    {
     "name": "stdout",
     "output_type": "stream",
     "text": [
      "2024-01-08 15:42:26,712 [INFO] Starting timestep: 0 at t_sim: 0.000 ms\n"
     ]
    },
    {
     "name": "stderr",
     "output_type": "stream",
     "text": [
      "INFO:NEURONIOUtils:Starting timestep: 0 at t_sim: 0.000 ms\n"
     ]
    },
    {
     "name": "stdout",
     "output_type": "stream",
     "text": [
      "2024-01-08 15:42:26,714 [INFO] Block save every 5000 steps\n"
     ]
    },
    {
     "name": "stderr",
     "output_type": "stream",
     "text": [
      "INFO:NEURONIOUtils:Block save every 5000 steps\n"
     ]
    },
    {
     "name": "stdout",
     "output_type": "stream",
     "text": [
      "2024-01-08 15:42:39,629 [INFO]     step:5000 t_sim:500.00 ms\n"
     ]
    },
    {
     "name": "stderr",
     "output_type": "stream",
     "text": [
      "INFO:NEURONIOUtils:    step:5000 t_sim:500.00 ms\n"
     ]
    },
    {
     "name": "stdout",
     "output_type": "stream",
     "text": [
      "2024-01-08 15:42:53,237 [INFO]     step:10000 t_sim:1000.00 ms\n"
     ]
    },
    {
     "name": "stderr",
     "output_type": "stream",
     "text": [
      "INFO:NEURONIOUtils:    step:10000 t_sim:1000.00 ms\n"
     ]
    },
    {
     "name": "stdout",
     "output_type": "stream",
     "text": [
      "2024-01-08 15:42:53,265 [INFO] Simulation completed in 26.55 seconds \n"
     ]
    },
    {
     "name": "stderr",
     "output_type": "stream",
     "text": [
      "INFO:NEURONIOUtils:Simulation completed in 26.55 seconds \n"
     ]
    }
   ],
   "source": [
    "from bmtk.simulator import bionet\n",
    "\n",
    "#### The following two lines are not needed in newer versions of BMTK but retained for compatibility\n",
    "from bmtk.simulator.bionet.default_setters.cell_models import loadHOC\n",
    "bionet.pyfunction_cache.add_cell_model(loadHOC, directive='hoc', model_type='biophysical')\n",
    "####\n",
    "\n",
    "conf = bionet.Config.from_json('simulation_config.json')\n",
    "conf.build_env()\n",
    "net = bionet.BioNetwork.from_config(conf)\n",
    "sim = bionet.BioSimulator.from_config(conf, network=net)\n",
    "sim.run()"
   ]
  },
  {
   "cell_type": "markdown",
   "metadata": {},
   "source": [
    "## 4. Analyzing results\n",
    "\n",
    "Results of the simulation, as specified in the config, are saved into the output directory. Using the analyzer functions, we can do things like plot the raster plot"
   ]
  },
  {
   "cell_type": "code",
   "execution_count": 12,
   "metadata": {},
   "outputs": [
    {
     "data": {
      "image/png": "[encoded data removed]",
      "text/plain": [
       "<Figure size 640x480 with 2 Axes>"
      ]
     },
     "metadata": {},
     "output_type": "display_data"
    }
   ],
   "source": [
    "from bmtk.analyzer.spike_trains import plot_raster, plot_rates_boxplot\n",
    "import matplotlib.pyplot as plt\n",
    "\n",
    "plot_raster(config_file='simulation_config.json', group_by='pop_name')\n",
    "plt.show()"
   ]
  },
  {
   "cell_type": "markdown",
   "metadata": {},
   "source": [
    "and the rates of each node"
   ]
  },
  {
   "cell_type": "code",
   "execution_count": 13,
   "metadata": {},
   "outputs": [
    {
     "data": {
      "image/png": "[encoded data removed]",
      "text/plain": [
       "<Figure size 640x480 with 1 Axes>"
      ]
     },
     "metadata": {},
     "output_type": "display_data"
    }
   ],
   "source": [
    "plot_rates_boxplot(config_file='simulation_config.json', group_by='pop_name')\n",
    "plt.show()"
   ]
  },
  {
   "cell_type": "code",
   "execution_count": 14,
   "metadata": {},
   "outputs": [
    {
     "data": {
      "image/png": "[encoded data removed]",
      "text/plain": [
       "<Figure size 640x480 with 2 Axes>"
      ]
     },
     "metadata": {},
     "output_type": "display_data"
    }
   ],
   "source": [
    "plot_raster(config_file='simulation_config.json', group_by='pop_name',times=(420,500))\n",
    "plt.show()"
   ]
  },
  {
   "cell_type": "markdown",
   "metadata": {},
   "source": [
    "## You can edit the tau values and check how they effect the network"
   ]
  }
 ],
 "metadata": {
  "anaconda-cloud": {},
  "kernelspec": {
   "display_name": "Python 3",
   "language": "python",
   "name": "python3"
  },
  "language_info": {
   "codemirror_mode": {
    "name": "ipython",
    "version": 3
   },
   "file_extension": ".py",
   "mimetype": "text/x-python",
   "name": "python",
   "nbconvert_exporter": "python",
   "pygments_lexer": "ipython3",
   "version": "3.8.16"
  }
 },
 "nbformat": 4,
 "nbformat_minor": 2
}
